{
 "cells": [
  {
   "cell_type": "code",
   "execution_count": 24,
   "metadata": {
    "collapsed": true
   },
   "outputs": [],
   "source": [
    "import pandas as pd\n",
    "import numpy as np"
   ]
  },
  {
   "cell_type": "code",
   "execution_count": 10,
   "metadata": {
    "collapsed": true
   },
   "outputs": [],
   "source": [
    "df = pd.read_csv('../../data/all_wine_data.csv')\n",
    "\n",
    "msk = np.random.rand(len(df)) <= 0.25\n",
    "sample = df[msk]"
   ]
  },
  {
   "cell_type": "code",
   "execution_count": 11,
   "metadata": {
    "collapsed": false
   },
   "outputs": [
    {
     "data": {
      "text/plain": [
       "31768"
      ]
     },
     "execution_count": 11,
     "metadata": {},
     "output_type": "execute_result"
    }
   ],
   "source": [
    "len(sample)"
   ]
  },
  {
   "cell_type": "code",
   "execution_count": 12,
   "metadata": {
    "collapsed": false,
    "scrolled": true
   },
   "outputs": [
    {
     "data": {
      "text/html": [
       "<div>\n",
       "<style>\n",
       "    .dataframe thead tr:only-child th {\n",
       "        text-align: right;\n",
       "    }\n",
       "\n",
       "    .dataframe thead th {\n",
       "        text-align: left;\n",
       "    }\n",
       "\n",
       "    .dataframe tbody tr th {\n",
       "        vertical-align: top;\n",
       "    }\n",
       "</style>\n",
       "<table border=\"1\" class=\"dataframe\">\n",
       "  <thead>\n",
       "    <tr style=\"text-align: right;\">\n",
       "      <th></th>\n",
       "      <th>Unnamed: 0</th>\n",
       "      <th>country</th>\n",
       "      <th>description</th>\n",
       "      <th>designation</th>\n",
       "      <th>points</th>\n",
       "      <th>price</th>\n",
       "      <th>province</th>\n",
       "      <th>region_1</th>\n",
       "      <th>region_2</th>\n",
       "      <th>variety</th>\n",
       "      <th>winery</th>\n",
       "    </tr>\n",
       "  </thead>\n",
       "  <tbody>\n",
       "    <tr>\n",
       "      <th>7</th>\n",
       "      <td>7</td>\n",
       "      <td>Spain</td>\n",
       "      <td>Lush cedary black-fruit aromas are luxe and of...</td>\n",
       "      <td>Carodorum Único Crianza</td>\n",
       "      <td>95</td>\n",
       "      <td>110.0</td>\n",
       "      <td>Northern Spain</td>\n",
       "      <td>Toro</td>\n",
       "      <td>NaN</td>\n",
       "      <td>Tinta de Toro</td>\n",
       "      <td>Bodega Carmen Rodríguez</td>\n",
       "    </tr>\n",
       "    <tr>\n",
       "      <th>15</th>\n",
       "      <td>15</td>\n",
       "      <td>US</td>\n",
       "      <td>First made in 2006, this succulent luscious Ch...</td>\n",
       "      <td>Sigrid</td>\n",
       "      <td>95</td>\n",
       "      <td>90.0</td>\n",
       "      <td>Oregon</td>\n",
       "      <td>Willamette Valley</td>\n",
       "      <td>Willamette Valley</td>\n",
       "      <td>Chardonnay</td>\n",
       "      <td>Bergström</td>\n",
       "    </tr>\n",
       "    <tr>\n",
       "      <th>20</th>\n",
       "      <td>20</td>\n",
       "      <td>US</td>\n",
       "      <td>Heitz has made this stellar rosé from the rare...</td>\n",
       "      <td>Grignolino</td>\n",
       "      <td>95</td>\n",
       "      <td>24.0</td>\n",
       "      <td>California</td>\n",
       "      <td>Napa Valley</td>\n",
       "      <td>Napa</td>\n",
       "      <td>Rosé</td>\n",
       "      <td>Heitz</td>\n",
       "    </tr>\n",
       "    <tr>\n",
       "      <th>27</th>\n",
       "      <td>27</td>\n",
       "      <td>US</td>\n",
       "      <td>Focused and dense, this intense wine captures ...</td>\n",
       "      <td>Abetina</td>\n",
       "      <td>94</td>\n",
       "      <td>105.0</td>\n",
       "      <td>Oregon</td>\n",
       "      <td>Willamette Valley</td>\n",
       "      <td>Willamette Valley</td>\n",
       "      <td>Pinot Noir</td>\n",
       "      <td>Ponzi</td>\n",
       "    </tr>\n",
       "    <tr>\n",
       "      <th>35</th>\n",
       "      <td>35</td>\n",
       "      <td>Italy</td>\n",
       "      <td>Forest floor, tilled soil, mature berry and a ...</td>\n",
       "      <td>Riserva</td>\n",
       "      <td>90</td>\n",
       "      <td>135.0</td>\n",
       "      <td>Tuscany</td>\n",
       "      <td>Brunello di Montalcino</td>\n",
       "      <td>NaN</td>\n",
       "      <td>Sangiovese</td>\n",
       "      <td>Carillon</td>\n",
       "    </tr>\n",
       "  </tbody>\n",
       "</table>\n",
       "</div>"
      ],
      "text/plain": [
       "    Unnamed: 0 country                                        description  \\\n",
       "7            7   Spain  Lush cedary black-fruit aromas are luxe and of...   \n",
       "15          15      US  First made in 2006, this succulent luscious Ch...   \n",
       "20          20      US  Heitz has made this stellar rosé from the rare...   \n",
       "27          27      US  Focused and dense, this intense wine captures ...   \n",
       "35          35   Italy  Forest floor, tilled soil, mature berry and a ...   \n",
       "\n",
       "                designation  points  price        province  \\\n",
       "7   Carodorum Único Crianza      95  110.0  Northern Spain   \n",
       "15                   Sigrid      95   90.0          Oregon   \n",
       "20               Grignolino      95   24.0      California   \n",
       "27                  Abetina      94  105.0          Oregon   \n",
       "35                  Riserva      90  135.0         Tuscany   \n",
       "\n",
       "                  region_1           region_2        variety  \\\n",
       "7                     Toro                NaN  Tinta de Toro   \n",
       "15       Willamette Valley  Willamette Valley     Chardonnay   \n",
       "20             Napa Valley               Napa           Rosé   \n",
       "27       Willamette Valley  Willamette Valley     Pinot Noir   \n",
       "35  Brunello di Montalcino                NaN     Sangiovese   \n",
       "\n",
       "                     winery  \n",
       "7   Bodega Carmen Rodríguez  \n",
       "15                Bergström  \n",
       "20                    Heitz  \n",
       "27                    Ponzi  \n",
       "35                 Carillon  "
      ]
     },
     "execution_count": 12,
     "metadata": {},
     "output_type": "execute_result"
    }
   ],
   "source": [
    "sample.head()"
   ]
  },
  {
   "cell_type": "code",
   "execution_count": 13,
   "metadata": {
    "collapsed": true
   },
   "outputs": [],
   "source": [
    "sample.to_csv('../../data/sample.csv') #sample dataset to use for building model"
   ]
  },
  {
   "cell_type": "code",
   "execution_count": 25,
   "metadata": {
    "collapsed": true
   },
   "outputs": [],
   "source": [
    "df = pd.read_csv('../../data/all_wine_data.csv')"
   ]
  },
  {
   "cell_type": "code",
   "execution_count": 27,
   "metadata": {
    "collapsed": false
   },
   "outputs": [
    {
     "name": "stdout",
     "output_type": "stream",
     "text": [
      "<class 'pandas.core.frame.DataFrame'>\n",
      "RangeIndex: 128137 entries, 0 to 128136\n",
      "Data columns (total 11 columns):\n",
      "Unnamed: 0     128137 non-null int64\n",
      "country        128081 non-null object\n",
      "description    128137 non-null object\n",
      "designation    89997 non-null object\n",
      "points         128137 non-null int64\n",
      "price          118285 non-null float64\n",
      "province       128081 non-null object\n",
      "region_1       107049 non-null object\n",
      "region_2       51680 non-null object\n",
      "variety        128137 non-null object\n",
      "winery         128137 non-null object\n",
      "dtypes: float64(1), int64(2), object(8)\n",
      "memory usage: 10.8+ MB\n"
     ]
    }
   ],
   "source": [
    "df.info()"
   ]
  },
  {
   "cell_type": "code",
   "execution_count": 29,
   "metadata": {
    "collapsed": false
   },
   "outputs": [],
   "source": [
    "df1 = df[np.isfinite(df['price'])]"
   ]
  },
  {
   "cell_type": "code",
   "execution_count": 30,
   "metadata": {
    "collapsed": false
   },
   "outputs": [
    {
     "name": "stdout",
     "output_type": "stream",
     "text": [
      "<class 'pandas.core.frame.DataFrame'>\n",
      "Int64Index: 118285 entries, 0 to 128136\n",
      "Data columns (total 11 columns):\n",
      "Unnamed: 0     118285 non-null int64\n",
      "country        118231 non-null object\n",
      "description    118285 non-null object\n",
      "designation    82776 non-null object\n",
      "points         118285 non-null int64\n",
      "price          118285 non-null float64\n",
      "province       118231 non-null object\n",
      "region_1       98879 non-null object\n",
      "region_2       51411 non-null object\n",
      "variety        118285 non-null object\n",
      "winery         118285 non-null object\n",
      "dtypes: float64(1), int64(2), object(8)\n",
      "memory usage: 10.8+ MB\n"
     ]
    }
   ],
   "source": [
    "df1.info()"
   ]
  },
  {
   "cell_type": "code",
   "execution_count": 31,
   "metadata": {
    "collapsed": true
   },
   "outputs": [],
   "source": [
    "df1.to_csv('../../data/price_wine_data.csv')"
   ]
  }
 ],
 "metadata": {
  "anaconda-cloud": {},
  "kernelspec": {
   "display_name": "Python [conda root]",
   "language": "python",
   "name": "conda-root-py"
  },
  "language_info": {
   "codemirror_mode": {
    "name": "ipython",
    "version": 2
   },
   "file_extension": ".py",
   "mimetype": "text/x-python",
   "name": "python",
   "nbconvert_exporter": "python",
   "pygments_lexer": "ipython2",
   "version": "2.7.12"
  }
 },
 "nbformat": 4,
 "nbformat_minor": 1
}
